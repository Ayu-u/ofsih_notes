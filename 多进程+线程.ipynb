{
 "cells": [
  {
   "cell_type": "markdown",
   "metadata": {},
   "source": [
    "# python多线程"
   ]
  },
  {
   "cell_type": "markdown",
   "metadata": {},
   "source": [
    "  - ## 创建子进程"
   ]
  },
  {
   "cell_type": "code",
   "execution_count": null,
   "metadata": {},
   "outputs": [],
   "source": [
    "# 1.导入包和模块\n",
    "import multiprocessing\n",
    "import time\n",
    " \n",
    " \n",
    "def sing():\n",
    "    print(\"sing\")\n",
    "    for i in range(3):\n",
    "        print(\"i am sing ooo~\")\n",
    "        time.sleep(0.5)\n",
    " \n",
    " \n",
    "def dance():\n",
    "    print(\"dance\")\n",
    "    for i in range(3):\n",
    "        print(\"i am dance lll~\")\n",
    "        time.sleep(0.5)\n",
    "\n",
    "sing_process = multiprocessing.Process(target=sing)\n",
    "dance_process = multiprocessing.Process(target=dance)\n",
    "\n",
    "\n",
    "dance()\n",
    "sing_process.start()\n",
    "# 3. 使用进程对象启动进程执行指定任务\n",
    "dance_process.start()"
   ]
  },
  {
   "cell_type": "markdown",
   "metadata": {},
   "source": [
    "- ### 创建调用带有参数的子进程"
   ]
  },
  {
   "cell_type": "code",
   "execution_count": null,
   "metadata": {},
   "outputs": [],
   "source": [
    "\n",
    "# 1.导入包和模块\n",
    "import multiprocessing\n",
    "import time\n",
    " \n",
    " \n",
    "def sing(num, name):\n",
    "    for i in range(num):\n",
    "        print(name)\n",
    "        print(\"---i am sing ooo~\")\n",
    "        time.sleep(0.5)\n",
    " \n",
    " \n",
    "def dance(num, name):\n",
    "    for i in range(num):\n",
    "        print(name)\n",
    "        print(\"i am dance lll~\")\n",
    "        time.sleep(0.5)\n",
    " \n",
    " \n",
    "if __name__ == '__main__':\n",
    "    # 2.使用进程类创建进程对象\n",
    "    # target:指定进程执行的函数名，不加括号\n",
    "    # args:使用元组方式给指定任务传参，顺序一致(参数顺序)\n",
    "    # kwargs:使用字典的方式给指定任务传参，名称一致(参数名称)\n",
    "    sing_process = multiprocessing.Process(target=sing, args=(3, \"猪猪\"))\n",
    "    dance_process = multiprocessing.Process(target=dance, kwargs={\"name\": \"珊珊\", \"num\": 2})\n",
    " \n",
    "    # 3. 使用进程对象启动进程执行指定任务\n",
    "    sing_process.start()\n",
    "    dance_process.start()"
   ]
  },
  {
   "cell_type": "markdown",
   "metadata": {},
   "source": [
    "- ## 获取子进程编号以便于管理\n",
    "  "
   ]
  },
  {
   "cell_type": "markdown",
   "metadata": {},
   "source": [
    "- #### 用getpid获得子进程id，用getppid获得父进程id\n",
    "  "
   ]
  },
  {
   "cell_type": "markdown",
   "metadata": {},
   "source": [
    "## 主进程会等所有的子进程都结束了之后才会结束"
   ]
  },
  {
   "cell_type": "code",
   "execution_count": null,
   "metadata": {},
   "outputs": [],
   "source": [
    "%%writefile temp\\temp.py\n",
    " \n",
    "# 1.导入包和模块\n",
    "import multiprocessing\n",
    "import time\n",
    "#  ces\n",
    " \n",
    "def work():\n",
    "    # 子进程工作2秒\n",
    "    for i in range(10):\n",
    "        print(\"工作中…\")\n",
    "        time.sleep(0.2)\n",
    " \n",
    " \n",
    "if __name__ == '__main__':\n",
    "    work_process = multiprocessing.Process(target=work)\n",
    "    work_process.start()\n",
    " \n",
    "    # 主进程睡眠1秒\n",
    "    time.sleep(1)\n",
    "    print(\"主进程执行完……\")\n",
    "    "
   ]
  },
  {
   "cell_type": "code",
   "execution_count": null,
   "metadata": {},
   "outputs": [],
   "source": [
    "from temp.temp import *\n",
    "work()"
   ]
  },
  {
   "cell_type": "code",
   "execution_count": null,
   "metadata": {},
   "outputs": [],
   "source": [
    "! temp\\temp.py\n",
    "! ./print.py\n",
    "# 还没有成功"
   ]
  },
  {
   "cell_type": "markdown",
   "metadata": {},
   "source": [
    "## 主程序等待所有子程序执行完推出"
   ]
  },
  {
   "cell_type": "code",
   "execution_count": null,
   "metadata": {},
   "outputs": [],
   "source": [
    "'''\n",
    "时间：2021.8.11\n",
    "作者：手可摘星辰不去高声语\n",
    "名称：06-进程注意点.py\n",
    "'''\n",
    " \n",
    "# 1.导入包和模块\n",
    "import multiprocessing\n",
    "import time\n",
    " \n",
    " \n",
    "def work():\n",
    "    # 子进程工作2秒\n",
    "    for i in range(10):\n",
    "        print(\"工作中…\")\n",
    "        time.sleep(0.2)\n",
    " \n",
    " \n",
    "if __name__ == '__main__':\n",
    "    work_process = multiprocessing.Process(target=work)\n",
    "    work_process.start()\n",
    " \n",
    "    # 主进程睡眠1秒\n",
    "    time.sleep(1)\n",
    "    print(\"主进程执行完……\")"
   ]
  },
  {
   "cell_type": "markdown",
   "metadata": {},
   "source": [
    "### 通过daemon设置主完子销"
   ]
  },
  {
   "cell_type": "code",
   "execution_count": null,
   "metadata": {},
   "outputs": [],
   "source": [
    "'''\n",
    "时间：2021.8.11\n",
    "作者：手可摘星辰不去高声语\n",
    "名称：06-进程注意点.py\n",
    "'''\n",
    " \n",
    "# 1.导入包和模块\n",
    "import multiprocessing\n",
    "import time\n",
    " \n",
    " \n",
    "def work():\n",
    "    # 子进程工作2秒\n",
    "    for i in range(10):\n",
    "        print(\"工作中…\")\n",
    "        time.sleep(0.2)\n",
    " \n",
    " \n",
    "if __name__ == '__main__':\n",
    "    work_process = multiprocessing.Process(target=work)\n",
    "    work_process.start()\n",
    " \n",
    "    # 主进程睡眠1秒\n",
    "    time.sleep(1)\n",
    "    print(\"主进程执行完……\")"
   ]
  },
  {
   "cell_type": "markdown",
   "metadata": {},
   "source": [
    "## 设置多线程处理"
   ]
  },
  {
   "cell_type": "markdown",
   "metadata": {},
   "source": [
    "### 线程和进程的区别是，进程是线程的容器，一个进程至少有一个线程"
   ]
  },
  {
   "cell_type": "markdown",
   "metadata": {},
   "source": [
    "进程是分配资源的最小单位，一旦创建一个进程就会分配一定的资源（打开两个QQ）\n",
    "\n",
    "线程是程序执行的最小单元，实际上进程只负责分配资源，而利用这些资源执行程序的是线程，也就是说进程是线程的容器，一个进程中最少有一个线程来负责执行程序\n",
    "\n",
    "线程自己不拥有系统资源，但可与同属一个进程的其他线程共享进程所拥有的全部资源（一个QQ打开两个chat窗口）"
   ]
  },
  {
   "cell_type": "markdown",
   "metadata": {},
   "source": [
    "- ###  创建子线程"
   ]
  },
  {
   "cell_type": "code",
   "execution_count": null,
   "metadata": {},
   "outputs": [],
   "source": [
    "\n",
    "import threading\n",
    "import time\n",
    " \n",
    " \n",
    "def sing():\n",
    "    for i in range(3):\n",
    "        print(\"i am sing ooo~\")\n",
    "        time.sleep(0.5)\n",
    " \n",
    " \n",
    "def dance():\n",
    "    for i in range(3):\n",
    "        print(\"i am dance lll~\")\n",
    "        time.sleep(0.5)\n",
    " \n",
    " \n",
    "if __name__ == '__main__':\n",
    "    sing_thread = threading.Thread(target=sing)\n",
    "    dance_thread = threading.Thread(target=dance)\n",
    " \n",
    "    sing_thread.start()\n",
    "    dance_thread.start()"
   ]
  },
  {
   "cell_type": "markdown",
   "metadata": {},
   "source": [
    "#### 执行有参数的线程"
   ]
  },
  {
   "cell_type": "code",
   "execution_count": null,
   "metadata": {},
   "outputs": [],
   "source": [
    "'''\n",
    "时间：2021.8.11\n",
    "作者：手可摘星辰不去高声语\n",
    "名称：10-使用多线程实现带参数的任务.py\n",
    "'''\n",
    " \n",
    "import threading\n",
    "import time\n",
    " \n",
    " \n",
    "def sing(num):\n",
    "    for i in range(num):\n",
    "        print(\"i am sing ooo~\")\n",
    "        time.sleep(0.5)\n",
    " \n",
    " \n",
    "def dance(num):\n",
    "    for i in range(num):\n",
    "        print(\"i am dance lll~\")\n",
    "        time.sleep(0.5)\n",
    " \n",
    " \n",
    "if __name__ == '__main__':\n",
    "    sing_thread = threading.Thread(target=sing, args=(3,))\n",
    "    dance_thread = threading.Thread(target=dance, kwargs={\"num\": 2})\n",
    " \n",
    "    sing_thread.start()\n",
    "    dance_thread.start()"
   ]
  },
  {
   "cell_type": "markdown",
   "metadata": {},
   "source": [
    "获取当前线程对象的信息"
   ]
  },
  {
   "cell_type": "code",
   "execution_count": null,
   "metadata": {},
   "outputs": [
    {
     "ename": "",
     "evalue": "",
     "output_type": "error",
     "traceback": [
      "\u001b[1;31m在当前单元格或上一个单元格中执行代码时 Kernel 崩溃。请查看单元格中的代码，以确定故障的可能原因。有关详细信息，请单击 <a href='https://aka.ms/vscodeJupyterKernelCrash'>此处</a>。有关更多详细信息，请查看 Jupyter <a href='command:jupyter.viewOutput'>log</a>。"
     ]
    }
   ],
   "source": [
    "'''\n",
    "时间：2021.8.11\n",
    "作者：手可摘星辰不去高声语\n",
    "名称：10-线程之间执行的顺序.py\n",
    "'''\n",
    " \n",
    "import threading\n",
    "import time\n",
    " \n",
    " \n",
    "def task():\n",
    "    time.sleep(0.5)\n",
    "    # current_thread:获取当前线程的线程对象\n",
    "    thread = threading.current_thread()\n",
    "    print(thread)\n",
    " \n",
    " \n",
    "if __name__ == '__main__':\n",
    "    for i in range(5):\n",
    "        sub_thread = threading.Thread(target=task)\n",
    "        sub_thread.start()"
   ]
  },
  {
   "cell_type": "markdown",
   "metadata": {},
   "source": [
    "进程销毁什么的和线程的是一眼的"
   ]
  }
 ],
 "metadata": {
  "kernelspec": {
   "display_name": "Python 3",
   "language": "python",
   "name": "python3"
  },
  "language_info": {
   "codemirror_mode": {
    "name": "ipython",
    "version": 3
   },
   "file_extension": ".py",
   "mimetype": "text/x-python",
   "name": "python",
   "nbconvert_exporter": "python",
   "pygments_lexer": "ipython3",
   "version": "3.11.3"
  }
 },
 "nbformat": 4,
 "nbformat_minor": 2
}
