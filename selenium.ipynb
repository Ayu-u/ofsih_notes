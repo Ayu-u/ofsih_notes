{
 "cells": [
  {
   "cell_type": "markdown",
   "metadata": {},
   "source": [
    "# selenium"
   ]
  },
  {
   "cell_type": "markdown",
   "metadata": {},
   "source": [
    "##蓝桥自动化教程"
   ]
  },
  {
   "cell_type": "markdown",
   "metadata": {},
   "source": [
    "#### 利用js代码下拉页面到指定高度"
   ]
  },
  {
   "cell_type": "markdown",
   "metadata": {},
   "source": [
    "\n",
    ">js = 'document.documentElement.scrollTop=具体的下拉高度值;'\n",
    "\n",
    ">driver.execute_script(js)\n"
   ]
  },
  {
   "cell_type": "markdown",
   "metadata": {},
   "source": [
    "#### 利用js代码下拉直到找到指定的元素"
   ]
  },
  {
   "cell_type": "markdown",
   "metadata": {},
   "source": [
    "\n",
    "target_element = driver.find_element_by_xx()\n",
    "\n",
    "js = 'arguments[0].scrollIntoView();'\n",
    "\n",
    "driver.execute_script(js,target_element)\n"
   ]
  },
  {
   "cell_type": "markdown",
   "metadata": {},
   "source": [
    "#### 页面弹窗 alert 的定位\n"
   ]
  },
  {
   "cell_type": "markdown",
   "metadata": {},
   "source": [
    "alert = driver.switch_to.alert\n",
    "\n",
    "#查看alert中的文字\n",
    "\n",
    "print(alert.text)\n",
    "\n",
    "#点击确定\n",
    "\n",
    "alert.accept()\n",
    "\n",
    "#点击取消（如果有）\n",
    "\n",
    "alert.dismiss()"
   ]
  },
  {
   "cell_type": "markdown",
   "metadata": {},
   "source": [
    "说明：很多时候我们点击按钮以后会新开页面，这时候要根据页面的句柄来切换窗口，获取所有页面句柄方法为.window_handles，而获取当前页面的句柄语法则为.current_window_handle，现在我们假设页面开了两个窗口，那么如何在两个窗口之间进行切换呢？很简单，就是用一个for循环即可，如果循环到的句柄与当前句柄不一致，那么就切换句柄："
   ]
  },
  {
   "cell_type": "markdown",
   "metadata": {},
   "source": [
    "#获取窗口所有句柄\n",
    "all_handles = driver.window_handles\n",
    "#获取当前窗口句柄\n",
    "curr_window = driver.current_window_handle\n",
    "#遍历所有句柄\n",
    "for k in all_handles:\n",
    "    # 如果不是当前窗口句柄\n",
    "    if k != curr_window:\n",
    "        # 窗口句柄切换\n",
    "        driver.switch_to.window(k)"
   ]
  },
  {
   "cell_type": "markdown",
   "metadata": {},
   "source": [
    "说明：iframe 经常在账号、密码输入框、发帖内容编辑框处出现，一般我们需要先通过开发人员工具确定该输入框是否是 iframe，如果是，则需要先定位 iframe。对 iframe 定位，一般需要先通过 xpath 定位到 iframe 的位置，然后通过.switch_to.frame()方法切换到 iframe 中，iframe 就像一个盒子，我们进入了盒子内部，进行预期的操作，然后需要跳出盒子才能继续对页面元素进行操作，所以执行完 iframe 内的操作后需要跳出 iframe 可以通过.switch_to.default_content()方法。"
   ]
  },
  {
   "cell_type": "markdown",
   "metadata": {},
   "source": [
    "iframe = driver.find_element_by_xpath()\n",
    "\n",
    "#切换到iframe\n",
    "\n",
    "driver.switch_to.frame(iframe)\n",
    "\n",
    "...页面操作代码...\n",
    "\n",
    "#跳出iframe\n",
    "\n",
    "driver.switch_to.default_content()"
   ]
  }
 ],
 "metadata": {
  "kernelspec": {
   "display_name": "Python 3",
   "language": "python",
   "name": "python3"
  },
  "language_info": {
   "codemirror_mode": {
    "name": "ipython",
    "version": 3
   },
   "file_extension": ".py",
   "mimetype": "text/x-python",
   "name": "python",
   "nbconvert_exporter": "python",
   "pygments_lexer": "ipython3",
   "version": "3.11.3"
  }
 },
 "nbformat": 4,
 "nbformat_minor": 2
}
