{
 "cells": [
  {
   "cell_type": "markdown",
   "metadata": {},
   "source": [
    "# Uniapp 教材"
   ]
  },
  {
   "cell_type": "markdown",
   "metadata": {},
   "source": [
    "### package.json文件"
   ]
  },
  {
   "cell_type": "code",
   "execution_count": 1,
   "metadata": {},
   "outputs": [
    {
     "data": {
      "text/plain": [
       "'\\npackage.json\\n\\n├── pages # 通过 pages 节点配置应用由哪些页面组成,pages 节点接收一个数组，数组每个项都是一个对象\\n    ├── page # 配置页面路径\\n    ├── style # 配置页面窗口表现\\n├── globalStyle # 用于设置应用的状态栏、导航条、标题、窗口背景色等\\n    ├── navigationBarTextStyle # 导航栏标题颜色及状态栏前景颜色，仅支持 black/white\\n    ├── navigationBarTitleText # 导航栏标题文字内容    \\n  ├── navigationBarBackgroundColor # 导航栏背景颜色（同状态栏背景色）    \\n  ├── backgroundColor # 下拉显示出来的窗口的背景色\\n'"
      ]
     },
     "execution_count": 1,
     "metadata": {},
     "output_type": "execute_result"
    }
   ],
   "source": [
    "'''\n",
    "package.json\n",
    "\n",
    "├── pages # 通过 pages 节点配置应用由哪些页面组成,pages 节点接收一个数组，数组每个项都是一个对象\n",
    "    ├── page # 配置页面路径\n",
    "    ├── style # 配置页面窗口表现\n",
    "├── globalStyle # 用于设置应用的状态栏、导航条、标题、窗口背景色等\n",
    "    ├── navigationBarTextStyle # 导航栏标题颜色及状态栏前景颜色，仅支持 black/white\n",
    "    ├── navigationBarTitleText # 导航栏标题文字内容    \n",
    "  ├── navigationBarBackgroundColor # 导航栏背景颜色（同状态栏背景色）    \n",
    "  ├── backgroundColor # 下拉显示出来的窗口的背景色\n",
    "'''"
   ]
  },
  {
   "cell_type": "markdown",
   "metadata": {},
   "source": []
  },
  {
   "cell_type": "markdown",
   "metadata": {},
   "source": [
    "更多的配置属性可以参考:https://uniapp.dcloud.io/collocation/pages"
   ]
  },
  {
   "cell_type": "markdown",
   "metadata": {},
   "source": []
  }
 ],
 "metadata": {
  "kernelspec": {
   "display_name": "Python 3",
   "language": "python",
   "name": "python3"
  },
  "language_info": {
   "codemirror_mode": {
    "name": "ipython",
    "version": 3
   },
   "file_extension": ".py",
   "mimetype": "text/x-python",
   "name": "python",
   "nbconvert_exporter": "python",
   "pygments_lexer": "ipython3",
   "version": "3.11.3"
  }
 },
 "nbformat": 4,
 "nbformat_minor": 2
}
