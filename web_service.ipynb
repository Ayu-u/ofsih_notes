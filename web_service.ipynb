{
 "cells": [
  {
   "cell_type": "markdown",
   "metadata": {},
   "source": [
    "# python实现web服务器"
   ]
  },
  {
   "cell_type": "markdown",
   "metadata": {},
   "source": [
    "https://www.lanqiao.cn/courses/552/learning/"
   ]
  },
  {
   "cell_type": "code",
   "execution_count": 1,
   "metadata": {},
   "outputs": [
    {
     "ename": "KeyboardInterrupt",
     "evalue": "",
     "output_type": "error",
     "traceback": [
      "\u001b[1;31m---------------------------------------------------------------------------\u001b[0m",
      "\u001b[1;31mKeyboardInterrupt\u001b[0m                         Traceback (most recent call last)",
      "\u001b[1;32mc:\\Users\\ofish\\Nutstore\\1\\Note\\web_service.ipynb 单元格 2\u001b[0m line \u001b[0;36m2\n\u001b[0;32m     <a href='vscode-notebook-cell:/c%3A/Users/ofish/Nutstore/1/Note/web_service.ipynb#W3sZmlsZQ%3D%3D?line=24'>25</a>\u001b[0m serverAddress \u001b[39m=\u001b[39m (\u001b[39m'\u001b[39m\u001b[39m'\u001b[39m, \u001b[39m8080\u001b[39m)\n\u001b[0;32m     <a href='vscode-notebook-cell:/c%3A/Users/ofish/Nutstore/1/Note/web_service.ipynb#W3sZmlsZQ%3D%3D?line=25'>26</a>\u001b[0m server \u001b[39m=\u001b[39m HTTPServer(serverAddress, RequestHandler)\n\u001b[1;32m---> <a href='vscode-notebook-cell:/c%3A/Users/ofish/Nutstore/1/Note/web_service.ipynb#W3sZmlsZQ%3D%3D?line=26'>27</a>\u001b[0m server\u001b[39m.\u001b[39;49mserve_forever()\n",
      "File \u001b[1;32mc:\\Users\\ofish\\AppData\\Local\\Programs\\Python\\Python311\\Lib\\socketserver.py:233\u001b[0m, in \u001b[0;36mBaseServer.serve_forever\u001b[1;34m(self, poll_interval)\u001b[0m\n\u001b[0;32m    230\u001b[0m selector\u001b[39m.\u001b[39mregister(\u001b[39mself\u001b[39m, selectors\u001b[39m.\u001b[39mEVENT_READ)\n\u001b[0;32m    232\u001b[0m \u001b[39mwhile\u001b[39;00m \u001b[39mnot\u001b[39;00m \u001b[39mself\u001b[39m\u001b[39m.\u001b[39m__shutdown_request:\n\u001b[1;32m--> 233\u001b[0m     ready \u001b[39m=\u001b[39m selector\u001b[39m.\u001b[39;49mselect(poll_interval)\n\u001b[0;32m    234\u001b[0m     \u001b[39m# bpo-35017: shutdown() called during select(), exit immediately.\u001b[39;00m\n\u001b[0;32m    235\u001b[0m     \u001b[39mif\u001b[39;00m \u001b[39mself\u001b[39m\u001b[39m.\u001b[39m__shutdown_request:\n",
      "File \u001b[1;32mc:\\Users\\ofish\\AppData\\Local\\Programs\\Python\\Python311\\Lib\\selectors.py:323\u001b[0m, in \u001b[0;36mSelectSelector.select\u001b[1;34m(self, timeout)\u001b[0m\n\u001b[0;32m    321\u001b[0m ready \u001b[39m=\u001b[39m []\n\u001b[0;32m    322\u001b[0m \u001b[39mtry\u001b[39;00m:\n\u001b[1;32m--> 323\u001b[0m     r, w, _ \u001b[39m=\u001b[39m \u001b[39mself\u001b[39;49m\u001b[39m.\u001b[39;49m_select(\u001b[39mself\u001b[39;49m\u001b[39m.\u001b[39;49m_readers, \u001b[39mself\u001b[39;49m\u001b[39m.\u001b[39;49m_writers, [], timeout)\n\u001b[0;32m    324\u001b[0m \u001b[39mexcept\u001b[39;00m \u001b[39mInterruptedError\u001b[39;00m:\n\u001b[0;32m    325\u001b[0m     \u001b[39mreturn\u001b[39;00m ready\n",
      "File \u001b[1;32mc:\\Users\\ofish\\AppData\\Local\\Programs\\Python\\Python311\\Lib\\selectors.py:314\u001b[0m, in \u001b[0;36mSelectSelector._select\u001b[1;34m(self, r, w, _, timeout)\u001b[0m\n\u001b[0;32m    313\u001b[0m \u001b[39mdef\u001b[39;00m \u001b[39m_select\u001b[39m(\u001b[39mself\u001b[39m, r, w, _, timeout\u001b[39m=\u001b[39m\u001b[39mNone\u001b[39;00m):\n\u001b[1;32m--> 314\u001b[0m     r, w, x \u001b[39m=\u001b[39m select\u001b[39m.\u001b[39mselect(r, w, w, timeout)\n\u001b[0;32m    315\u001b[0m     \u001b[39mreturn\u001b[39;00m r, w \u001b[39m+\u001b[39m x, []\n",
      "\u001b[1;31mKeyboardInterrupt\u001b[0m: "
     ]
    }
   ],
   "source": [
    "#-*- coding:utf-8 -*-\n",
    "from http.server import BaseHTTPRequestHandler, HTTPServer\n",
    "\n",
    "class RequestHandler(BaseHTTPRequestHandler):\n",
    "    '''处理请求并返回页面'''\n",
    "\n",
    "    # 页面模板\n",
    "    Page = '''\\\n",
    "        <html>\n",
    "        <body>\n",
    "        <p>Hello, web!</p>\n",
    "        </body>\n",
    "        </html>\n",
    "    '''\n",
    "\n",
    "    # 处理一个GET请求\n",
    "    def do_GET(self):\n",
    "        self.send_response(200)\n",
    "        self.send_header(\"Content-Type\", \"text/html\")\n",
    "        self.send_header(\"Content-Length\", str(len(self.Page)))\n",
    "        self.end_headers()\n",
    "        self.wfile.write(self.Page.encode('utf-8'))\n",
    "\n",
    "if __name__ == '__main__':\n",
    "    serverAddress = ('', 8080)\n",
    "    server = HTTPServer(serverAddress, RequestHandler)\n",
    "    server.serve_forever()"
   ]
  }
 ],
 "metadata": {
  "kernelspec": {
   "display_name": "Python 3",
   "language": "python",
   "name": "python3"
  },
  "language_info": {
   "codemirror_mode": {
    "name": "ipython",
    "version": 3
   },
   "file_extension": ".py",
   "mimetype": "text/x-python",
   "name": "python",
   "nbconvert_exporter": "python",
   "pygments_lexer": "ipython3",
   "version": "3.11.3"
  }
 },
 "nbformat": 4,
 "nbformat_minor": 2
}
