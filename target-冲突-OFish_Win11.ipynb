{
 "cells": [
  {
   "cell_type": "markdown",
   "metadata": {},
   "source": [
    "## 目前计划"
   ]
  },
  {
   "cell_type": "code",
   "execution_count": 1,
   "metadata": {},
   "outputs": [
    {
     "name": "stdout",
     "output_type": "stream",
     "text": [
      "最后修改的一次的时间是2023-11-29 13:03:13.354956\n"
     ]
    }
   ],
   "source": [
    "import datetime\n",
    "current_time = datetime.datetime.now()\n",
    "print(f'最后修改的一次的时间是{current_time}')"
   ]
  },
  {
   "cell_type": "markdown",
   "metadata": {},
   "source": [
    "- 机器学习部分\n",
    "   - 数据处理-pandas\n",
    "     - pandas基本datafrme √\n",
    "     - pandas文件处理\n",
    "     - pandas图像拟合\n",
    "   - 流程-蓝桥杯机器学习\n",
    "     - sklean模块\n",
    "   - 实现-处理好chatgpt\n",
    "     - 已经处理好 √\n",
    "     - 尝试利用api自己搭建chatgpt项目 方便运行\n",
    "     - 尝试学习autochatgpt\n",
    "  "
   ]
  },
  {
   "cell_type": "markdown",
   "metadata": {},
   "source": [
    "- 期末\n",
    "  - 机器学习-选修\n",
    "    - 大作业-机器学习实现 预计花费一天\n",
    "  - 机器学习数学-考试\n",
    "    - 四道大题 找时间学习 预计花费两天\n",
    "  - 中特-考试\n",
    "  - 算法设计\n",
    "    - 18周考试 复习预计花费一天\n",
    "  - 数据库\n",
    "    - 演讲ppt 数据库的流处理 预计花费两天\n",
    "  - 软工作业\n",
    "    - 长篇论文改成20页的ppt演讲\n",
    "    - B树和B+树的代码实现 预计花费一天\n"
   ]
  },
  {
   "cell_type": "markdown",
   "metadata": {},
   "source": [
    "- 爬虫部分\n",
    "  - selenium\n",
    "    - 完善学习的部分-聚焦界面\n",
    "  - request\n",
    "    - 蓝桥杯学习 》C:\\Users\\ofish\\Nutstore\\1\\Note\\Requests.ipynb\n",
    "  - 多线程\n",
    "    - 了解使用线程和进程库 √\n",
    "  - 漂亮的汤\n",
    "    - 蓝桥杯短暂会用\n",
    "  - redis数据库\n",
    "    - 会链接进代码的分布式计算"
   ]
  },
  {
   "cell_type": "markdown",
   "metadata": {},
   "source": [
    "- *考证部分*\n",
    "  - 四级证书 -12月11  *****\n",
    "    - 单词背背背\n",
    "    - 练习卷子\n",
    "    - 背作文模板\n",
    "  - 软考中级 -下一年\n",
    "  - 蓝桥杯比赛 -下一年\n",
    "  - FCP考证，六个月之内必须考了"
   ]
  },
  {
   "cell_type": "markdown",
   "metadata": {},
   "source": [
    "- 备忘录\n",
    "    - 处理chatgpt\n",
    "        - 不知道啥原因好了\n",
    "    - 四级单词\n",
    "      - 十天背完单词\n",
    "      - 背作文模板\n",
    "      - 看四级救命班\n",
    "    - 水杯 冰箱底座 全功能数据线 显示器 \n",
    "    - 耳机罩子"
   ]
  },
  {
   "cell_type": "markdown",
   "metadata": {
    "notebookRunGroups": {
     "groupValue": ""
    }
   },
   "source": [
    "- 小程序部分\n",
    "  - 蓝桥杯网课\n",
    "  - uniapp开发网课 -黑马\n",
    "    - 速称uniapp\n",
    "    - 蓝桥杯小程序开发\n",
    "  - vue学习\n",
    "    - 互动教程\n",
    "  - js学习\n",
    "    - 菜鸟教程学习\n",
    "  \n"
   ]
  },
  {
   "cell_type": "markdown",
   "metadata": {},
   "source": [
    "- 搞钱部分\n",
    "  - 网店 \n",
    "    - 每天抽出来时间去选品上货，哪怕只是让店铺等级提高\n",
    "  - 小程序\n",
    "    - 学习uniapp，联系一个小程序练练手，尝试链接上服务器\n",
    "- \n"
   ]
  },
  {
   "cell_type": "markdown",
   "metadata": {},
   "source": [
    "\n",
    "- 论文部分\n",
    "  - 整理日常笔记\n",
    "  - 开通在线博客和个人仓库\n",
    "  - 熟悉论文工具\n",
    "    - 下载laxte软件\n",
    "  - 尝试实现论文代码\n"
   ]
  },
  {
   "cell_type": "markdown",
   "metadata": {},
   "source": []
  }
 ],
 "metadata": {
  "kernelspec": {
   "display_name": "Python 3",
   "language": "python",
   "name": "python3"
  },
  "language_info": {
   "codemirror_mode": {
    "name": "ipython",
    "version": 3
   },
   "file_extension": ".py",
   "mimetype": "text/x-python",
   "name": "python",
   "nbconvert_exporter": "python",
   "pygments_lexer": "ipython3",
   "version": "3.11.3"
  }
 },
 "nbformat": 4,
 "nbformat_minor": 2
}
