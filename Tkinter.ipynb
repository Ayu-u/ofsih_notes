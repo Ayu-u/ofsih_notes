{
 "cells": [
  {
   "cell_type": "markdown",
   "metadata": {},
   "source": [
    "# python 基础图形化GUI"
   ]
  },
  {
   "cell_type": "markdown",
   "metadata": {},
   "source": [
    "tkinter是Python的GUI库，提供了一个快速构建GUI应用程序的面向对象的工具包。除此之外，Python还有PyQT，PyGTK，wxPython等常用的GUI库。\n",
    "\n",
    "tkinter由各种控件构成，多个GUI控件共同构成了界面。每个控件具备若干属性来设置控件的行为和展示效果，常用的属性包括颜色colors，字体fonts。完整的控件列表请参考tkinter的官方文档，常用的控件包括按钮Button，标签Label，文本框Text以及框架Frame等，本项目中我们只需要用到Button和Label。\n",
    "\n",
    "界面布局是一个很复杂的概念，如何让每个控件放到指定的位置，同时又可以让控件之间相互关联，当界面变化时能自动调整。tkinter常用的布局方式有很多种，对于计算器需要多个按钮组件的情况，我们选择网格Grid布局。\n",
    "\n",
    "几种布局方式的不同：\n",
    "\n",
    "Grid将控件放置到一个二维的列表区域，区域被分割成几行和几列，每个控件需要设置行和列的值，从而放到指定的单元。\n",
    "Pack方式将控件按行或列的方式进行排列，可以使用fill填充，expand扩展等方法来进行控件位置的控制，从而能保证多个控件组合后达到期望的效果。\n",
    "Place方式是最简单的，直接设置控件的绝对位置和大小。"
   ]
  },
  {
   "cell_type": "code",
   "execution_count": null,
   "metadata": {},
   "outputs": [],
   "source": [
    "#!/usr/bin/python3\n",
    "\n",
    "from tkinter import *\n",
    "\n",
    "# 创建主窗口\n",
    "mainUI = Tk()\n",
    "\n",
    "# 添加其他控件到mainUI\n",
    "# 例如按钮，标签等\n",
    "\n",
    "# 进入主循环\n",
    "mainUI.mainloop()\n",
    "# 设置显示内容，默认显示0\n",
    "display = StringVar()\n",
    "display.set('0')"
   ]
  },
  {
   "cell_type": "code",
   "execution_count": null,
   "metadata": {},
   "outputs": [],
   "source": [
    "#!/usr/bin/python\n",
    "# -*- coding: UTF-8 -*-\n",
    " \n",
    "# Python2.x 导入方法\n",
    "from tkinter import *           # 导入 Tkinter 库\n",
    "# Python3.x 导入方法\n",
    "#from tkinter import * \n",
    "root = Tk()                     # 创建窗口对象的背景色\n",
    "                                # 创建两个列表\n",
    "li     = ['C','python','php','html','SQL','java']\n",
    "movie  = ['CSS','jQuery','Bootstrap']\n",
    "listb  = Listbox(root)          #  创建两个列表组件\n",
    "listb2 = Listbox(root)\n",
    "for item in li:                 # 第一个小部件插入数据\n",
    "    listb.insert(0,item)\n",
    " \n",
    "for item in movie:              # 第二个小部件插入数据\n",
    "    listb2.insert(0,item)\n",
    " \n",
    "listb.pack()                    # 将小部件放置到主窗口中\n",
    "# listb2.pack()\n",
    "root.mainloop()                 # 进入消息循环"
   ]
  },
  {
   "cell_type": "code",
   "execution_count": 3,
   "metadata": {},
   "outputs": [],
   "source": [
    "# -*- coding:utf-8 -*-\n",
    "import tkinter as tk\n",
    "# 调用Tk()创建主窗口\n",
    "root_window =tk.Tk()\n",
    "# 给主窗口起一个名字，也就是窗口的名字\n",
    "root_window.title('窗口标题')\n",
    "# 添加文本标签，text参数指定内容\n",
    "text=tk.Label(root_window,text=\"C语言中文网，欢迎您\",bg=\"yellow\",fg=\"red\",font=('Times', 20, 'bold italic'))\n",
    "# 将标签对象放置在主窗口内\n",
    "text  =tk.Label(root_window,text=\"text的内容\")\n",
    "text.pack()\n",
    "#开启主循环，让窗口处于显示状态\n",
    "root_window.mainloop()"
   ]
  },
  {
   "cell_type": "code",
   "execution_count": null,
   "metadata": {},
   "outputs": [],
   "source": [
    "# # -*- coding:utf-8 -*-\n",
    "\n",
    "# import tkinter as tk\n",
    "\n",
    "# root_window =tk.Tk()\n",
    "# # 设置窗口title\n",
    "# root_window.title('C语言中文网：c.biancheng.net')\n",
    "# # 设置窗口大小:宽x高,注,此处不能为 \"*\",必须使用 \"x\"\n",
    "# root_window.geometry('450x300')\n",
    "# # 更改左上角窗口的的icon图标,加载C语言中文网logo标\n",
    "# # root_window.iconbitmap('C:/Users/Administrator/Desktop/favicon.ico')\n",
    "# # 设置主窗口的背景颜色,颜色值可以是英文单词，或者颜色值的16进制数,除此之外还可以使用Tk内置的颜色常量\n",
    "# root_window[\"background\"] = \"#C9C9C9\"\n",
    "# # 添加文本内,设置字体的前景色和背景色，和字体类型、大小\n",
    "# text=tk.Label(root_window,text=\"C语言中文网，欢迎您\",bg=\"yellow\",fg=\"red\",font=('Times', 20, 'bold italic'))\n",
    "# # 将文本内容放置在主窗口内\n",
    "# text.pack()\n",
    "# # 添加按钮，以及按钮的文本，并通过command 参数设置关闭窗口的功能\n",
    "# button=tk.Button(root_window,text=\"关闭\",command=root_window.quit)\n",
    "# # 将按钮放置在主窗口内\n",
    "# button.pack(side=\"bottom\")\n",
    "# #进入主循环，显示主窗口\n",
    "# root_window.mainloop()"
   ]
  }
 ],
 "metadata": {
  "kernelspec": {
   "display_name": "Python 3",
   "language": "python",
   "name": "python3"
  },
  "language_info": {
   "codemirror_mode": {
    "name": "ipython",
    "version": 3
   },
   "file_extension": ".py",
   "mimetype": "text/x-python",
   "name": "python",
   "nbconvert_exporter": "python",
   "pygments_lexer": "ipython3",
   "version": "3.11.1"
  }
 },
 "nbformat": 4,
 "nbformat_minor": 2
}
